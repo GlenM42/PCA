{
 "cells": [
  {
   "metadata": {},
   "cell_type": "markdown",
   "source": "## Problem 2: Fisher LDA",
   "id": "5b977bcb97c84680"
  },
  {
   "metadata": {
    "ExecuteTime": {
     "end_time": "2024-11-20T22:52:25.454870Z",
     "start_time": "2024-11-20T22:52:25.352862Z"
    }
   },
   "cell_type": "code",
   "source": "import numpy as np",
   "id": "6855ad6942e4da94",
   "outputs": [],
   "execution_count": 1
  },
  {
   "metadata": {},
   "cell_type": "markdown",
   "source": "### Step 1: Define the data points and their classes",
   "id": "3420df4ae161714"
  },
  {
   "metadata": {
    "ExecuteTime": {
     "end_time": "2024-11-20T22:52:28.704353Z",
     "start_time": "2024-11-20T22:52:28.701441Z"
    }
   },
   "cell_type": "code",
   "source": [
    "X = np.array([\n",
    "    [2.5, 1.0], # Class 0\n",
    "    [2.0, 2.15], # Class 0\n",
    "    [4.0, 2.9], # Class 1\n",
    "    [3.6, 4.0] # Class 1\n",
    "])\n",
    "\n",
    "y = np.array([\n",
    "    0,\n",
    "    0,\n",
    "    1,\n",
    "    1\n",
    "])"
   ],
   "id": "a8e06802910c7d7f",
   "outputs": [],
   "execution_count": 2
  },
  {
   "metadata": {},
   "cell_type": "markdown",
   "source": "### Step 2: Compute class means",
   "id": "58a983ddffc1c22e"
  },
  {
   "metadata": {
    "ExecuteTime": {
     "end_time": "2024-11-20T22:52:32.310164Z",
     "start_time": "2024-11-20T22:52:32.307052Z"
    }
   },
   "cell_type": "code",
   "source": [
    "X_class_0 = X[y == 0]\n",
    "X_class_1 = X[y == 1]\n",
    "\n",
    "mu_1 = np.mean(X_class_0, axis=0)\n",
    "mu_2 = np.mean(X_class_1, axis=0)\n",
    "\n",
    "print(\"Mean of class 0 (mu_1):\", mu_1)\n",
    "print(\"Mean of class 1 (mu_2):\", mu_2)"
   ],
   "id": "c29f6abe10e2980d",
   "outputs": [
    {
     "name": "stdout",
     "output_type": "stream",
     "text": [
      "Mean of class 0 (mu_1): [2.25  1.575]\n",
      "Mean of class 1 (mu_2): [3.8  3.45]\n"
     ]
    }
   ],
   "execution_count": 3
  },
  {
   "metadata": {},
   "cell_type": "markdown",
   "source": "### Step 3: Compute the scatter matrices",
   "id": "e7e83e84905c4e08"
  },
  {
   "metadata": {
    "ExecuteTime": {
     "end_time": "2024-11-20T23:18:23.337598Z",
     "start_time": "2024-11-20T23:18:23.332957Z"
    }
   },
   "cell_type": "code",
   "source": [
    "# Center the data by subtracting the class mean\n",
    "Xc_class_0 = X_class_0 - mu_1\n",
    "Xc_class_1 = X_class_1 - mu_2\n",
    "\n",
    "print(\"Centered data for class 0 (Xc_class_0):\\n\", Xc_class_0)\n",
    "print(\"Centered data for class 1 (Xc_class_1):\\n\", Xc_class_1)\n",
    "\n",
    "# Difference in means\n",
    "mu_diff = (mu_2 - mu_1).reshape(-1, 1)\n",
    "print(\"Difference between class means (mu_2 - mu_1):\\n\", mu_diff)\n",
    "\n",
    "# Between-class scatter matrix (SB)\n",
    "SB = np.dot(mu_diff, mu_diff.T)\n",
    "print(\"Between-class scatter matrix (SB):\\n\", SB)\n",
    "\n",
    "# Within-class scatter matrix\n",
    "SC_1 = np.dot(Xc_class_0.T, Xc_class_0)\n",
    "SC_2 = np.dot(Xc_class_1.T, Xc_class_1)\n",
    "\n",
    "print(\"Within-class scatter matrix for class 0 (SC1):\\n\", SC_1)\n",
    "print(\"Within-class scatter matrix for class 1 (SC2):\\n\", SC_2)\n",
    "\n",
    "# Combine into total within-class scatter matrix\n",
    "SW = SC_1 + SC_2\n",
    "\n",
    "print(\"Total within-class scatter matrix (SW):\\n\", SW)"
   ],
   "id": "f0d032eddf853b2f",
   "outputs": [
    {
     "name": "stdout",
     "output_type": "stream",
     "text": [
      "Centered data for class 0 (Xc_class_0):\n",
      " [[ 0.25  -0.575]\n",
      " [-0.25   0.575]]\n",
      "Centered data for class 1 (Xc_class_1):\n",
      " [[ 0.2  -0.55]\n",
      " [-0.2   0.55]]\n",
      "Difference between class means (mu_2 - mu_1):\n",
      " [[1.55 ]\n",
      " [1.875]]\n",
      "Between-class scatter matrix (SB):\n",
      " [[2.4025   2.90625 ]\n",
      " [2.90625  3.515625]]\n",
      "Within-class scatter matrix for class 0 (SC1):\n",
      " [[ 0.125   -0.2875 ]\n",
      " [-0.2875   0.66125]]\n",
      "Within-class scatter matrix for class 1 (SC2):\n",
      " [[ 0.08  -0.22 ]\n",
      " [-0.22   0.605]]\n",
      "Total within-class scatter matrix (SW):\n",
      " [[ 0.205   -0.5075 ]\n",
      " [-0.5075   1.26625]]\n"
     ]
    }
   ],
   "execution_count": 19
  },
  {
   "metadata": {},
   "cell_type": "markdown",
   "source": "### Step 4: Compute the product of the matrices ",
   "id": "c6896618f4d8688c"
  },
  {
   "metadata": {
    "ExecuteTime": {
     "end_time": "2024-11-20T23:31:17.877763Z",
     "start_time": "2024-11-20T23:31:17.874226Z"
    }
   },
   "cell_type": "code",
   "source": [
    "# Get the inverse\n",
    "SW_inv_numpy = np.linalg.inv(SW)\n",
    "print(\"Numpy inverse of SW (SW^-1):\\n\", SW_inv_numpy)\n",
    "\n",
    "# Compute the product of SW^-1 and SB\n",
    "SW_inv_SB = np.dot(SW_inv_numpy, SB)\n",
    "print(\"Product of SW^-1 and SB (SW^-1 * SB):\\n\", SW_inv_SB)"
   ],
   "id": "923e79695620fff",
   "outputs": [
    {
     "name": "stdout",
     "output_type": "stream",
     "text": [
      "Numpy inverse of SW (SW^-1):\n",
      " [[625.30864198 250.61728395]\n",
      " [250.61728395 101.2345679 ]]\n",
      "Product of SW^-1 and SB (SW^-1 * SB):\n",
      " [[2230.66049383 2698.37962963]\n",
      " [ 896.32098765 1084.25925926]]\n"
     ]
    }
   ],
   "execution_count": 28
  },
  {
   "metadata": {},
   "cell_type": "markdown",
   "source": "### Step 5: Find the optimal vector (w) ",
   "id": "5df562dfafdd6ce4"
  },
  {
   "metadata": {
    "ExecuteTime": {
     "end_time": "2024-11-20T23:36:31.484675Z",
     "start_time": "2024-11-20T23:36:31.481598Z"
    }
   },
   "cell_type": "code",
   "source": [
    "# Compute the eigenvalues and eigenvectors of SW^-1 * SB\n",
    "eigenvalues, eigenvectors = np.linalg.eig(SW_inv_SB)\n",
    "\n",
    "# Display the eigenvalues\n",
    "print(\"Eigenvalues of SW^-1 * SB:\\n\", eigenvalues)\n",
    "\n",
    "# Optionally display the eigenvectors\n",
    "print(\"Eigenvectors of SW^-1 * SB:\\n\", eigenvectors)\n",
    "\n",
    "# Find the index of the largest eigenvalue\n",
    "max_eigenvalue_index = np.argmax(eigenvalues)\n",
    "\n",
    "# Get the largest eigenvalue and corresponding eigenvector\n",
    "largest_eigenvalue = eigenvalues[max_eigenvalue_index]\n",
    "largest_eigenvector = eigenvectors[:, max_eigenvalue_index]\n",
    "\n",
    "# Display the largest eigenvalue and eigenvector\n",
    "print(\"Largest Eigenvalue:\", round(largest_eigenvalue, 2))\n",
    "print(\"Corresponding Eigenvector:\\n\", largest_eigenvector)"
   ],
   "id": "7734b5b8b5c44346",
   "outputs": [
    {
     "name": "stdout",
     "output_type": "stream",
     "text": [
      "Eigenvalues of SW^-1 * SB:\n",
      " [ 3.31491975e+03 -2.75876494e-14]\n",
      "Eigenvectors of SW^-1 * SB:\n",
      " [[ 0.92789365 -0.77074232]\n",
      " [ 0.37284497  0.63714698]]\n",
      "Largest Eigenvalue: 3314.92\n",
      "Corresponding Eigenvector:\n",
      " [0.92789365 0.37284497]\n"
     ]
    }
   ],
   "execution_count": 32
  },
  {
   "metadata": {},
   "cell_type": "markdown",
   "source": "### Step 6: Find the projections",
   "id": "541be668bfe0ab95"
  },
  {
   "metadata": {
    "ExecuteTime": {
     "end_time": "2024-11-20T23:44:27.885445Z",
     "start_time": "2024-11-20T23:44:27.881195Z"
    }
   },
   "cell_type": "code",
   "source": [
    "w = largest_eigenvector  # The discriminant vector (eigenvector corresponding to the largest eigenvalue)\n",
    "new_point = np.array([3.8, \n",
    "                      5])  # New point to classify\n",
    "\n",
    "# Step 1: Project class means onto w\n",
    "mu_w1 = np.dot(w, mu_1)  # Projection of class 1 mean onto w\n",
    "mu_w2 = np.dot(w, mu_2)  # Projection of class 2 mean onto w\n",
    "print(\"Projection of class 1 mean (mu_w1) =\", round(mu_w1, 3), \"* w\")\n",
    "print(\"Projection of class 2 mean (mu_w2) =\", round(mu_w2, 3), \"* w\")\n",
    "\n",
    "# Step 2: Compute the separation point (sep)\n",
    "sep = (mu_w1 + mu_w2) / 2\n",
    "print(\"Separation point (sep) = \", round(sep, 3), \" * w\")\n",
    "\n",
    "# Step 3: Project the new point onto w\n",
    "proj_new_point = np.dot(w, new_point)\n",
    "print(\"Projection of new point onto w = \", round(proj_new_point, 3), \" * w\")\n",
    "\n",
    "# Step 4: Classify the new point\n",
    "if proj_new_point > sep:\n",
    "    classification = \"Class 2\"\n",
    "else:\n",
    "    classification = \"Class 1\"\n",
    "\n",
    "print(\"Classification of the new point:\", classification)"
   ],
   "id": "9d4a69891af1ca10",
   "outputs": [
    {
     "name": "stdout",
     "output_type": "stream",
     "text": [
      "Projection of class 1 mean (mu_w1) = 2.675 * w\n",
      "Projection of class 2 mean (mu_w2) = 4.812 * w\n",
      "Separation point (sep) =  3.744  * w\n",
      "Projection of new point onto w =  5.39  * w\n",
      "Classification of the new point: Class 2\n"
     ]
    }
   ],
   "execution_count": 39
  },
  {
   "metadata": {},
   "cell_type": "markdown",
   "source": "# This is a redo for a universal case",
   "id": "15754ceab5fa0805"
  },
  {
   "metadata": {
    "ExecuteTime": {
     "end_time": "2024-11-20T23:55:33.521457Z",
     "start_time": "2024-11-20T23:55:33.515968Z"
    }
   },
   "cell_type": "code",
   "source": [
    "import numpy as np\n",
    "\n",
    "# Function to compute Fisher's LDA and classify a new point\n",
    "def fisher_lda(X, y, new_point):\n",
    "    # Separate data by class\n",
    "    classes = np.unique(y)  # Find unique class labels\n",
    "    class_means = {}\n",
    "    scatter_within = np.zeros((X.shape[1], X.shape[1]))  # Initialize SW\n",
    "\n",
    "    for c in classes:\n",
    "        X_class = X[y == c]\n",
    "        mu_c = np.mean(X_class, axis=0)\n",
    "        class_means[c] = mu_c\n",
    "        # Centered data for each class\n",
    "        Xc_class = X_class - mu_c\n",
    "        scatter_within += np.dot(Xc_class.T, Xc_class)\n",
    "\n",
    "    print(\"Class Means:\\n\", class_means)\n",
    "    print(\"Within-Class Scatter Matrix (SW):\\n\", scatter_within)\n",
    "\n",
    "    # Between-class scatter matrix\n",
    "    mu_diff = class_means[classes[1]] - class_means[classes[0]]\n",
    "    mu_diff = mu_diff.reshape(-1, 1)  # Reshape to column vector\n",
    "    scatter_between = np.dot(mu_diff, mu_diff.T)\n",
    "    print(\"Between-Class Scatter Matrix (SB):\\n\", scatter_between)\n",
    "\n",
    "    # Compute SW^-1 * SB\n",
    "    SW_inv = np.linalg.inv(scatter_within)\n",
    "    SW_inv_SB = np.dot(SW_inv, scatter_between)\n",
    "    print(\"Product of SW^-1 and SB:\\n\", SW_inv_SB)\n",
    "\n",
    "    # Compute eigenvalues and eigenvectors\n",
    "    eigenvalues, eigenvectors = np.linalg.eig(SW_inv_SB)\n",
    "    max_eigenvalue_index = np.argmax(eigenvalues)\n",
    "    w = eigenvectors[:, max_eigenvalue_index]  # Discriminant vector\n",
    "    print(\"Largest Eigenvalue:\", round(eigenvalues[max_eigenvalue_index], 3))\n",
    "    print(\"Corresponding Eigenvector (w):\\n\", w)\n",
    "\n",
    "    # Project means onto w\n",
    "    mu_w1 = np.dot(w, class_means[classes[0]])\n",
    "    mu_w2 = np.dot(w, class_means[classes[1]])\n",
    "    print(\"Projection of class 1 mean (mu_w1) =\", round(mu_w1, 3), \"* w\")\n",
    "    print(\"Projection of class 2 mean (mu_w2) =\", round(mu_w2, 3), \"* w\")\n",
    "\n",
    "    # Separation point\n",
    "    sep = (mu_w1 + mu_w2) / 2\n",
    "    print(\"Separation point (sep) =\", round(sep, 3), \"* w\")\n",
    "\n",
    "    # Classify the new point\n",
    "    proj_new_point = np.dot(w, new_point)\n",
    "    print(\"Projection of new point onto w =\", round(proj_new_point, 3), \"* w\")\n",
    "\n",
    "    if proj_new_point > sep:\n",
    "        classification = classes[1]\n",
    "    else:\n",
    "        classification = classes[0]\n",
    "\n",
    "    print(\"Classification of the new point:\", classification)\n",
    "    return classification\n"
   ],
   "id": "7be8bf0f75cc1b09",
   "outputs": [],
   "execution_count": 40
  },
  {
   "metadata": {
    "ExecuteTime": {
     "end_time": "2024-11-20T23:55:37.403115Z",
     "start_time": "2024-11-20T23:55:37.397750Z"
    }
   },
   "cell_type": "code",
   "source": [
    "# Example usage\n",
    "X = np.array([\n",
    "    [2.5, 1.0],  # Class 0\n",
    "    [2.0, 2.15],  # Class 0\n",
    "    [4.0, 2.9],   # Class 1\n",
    "    [3.6, 4.0]    # Class 1\n",
    "])\n",
    "\n",
    "y = np.array([0, 0, 1, 1])  # Class labels\n",
    "new_point = np.array([3.8, 5])  # New point to classify\n",
    "\n",
    "# Call the Fisher LDA function\n",
    "fisher_lda(X, y, new_point)\n"
   ],
   "id": "a6cae3a251bad1c",
   "outputs": [
    {
     "name": "stdout",
     "output_type": "stream",
     "text": [
      "Class Means:\n",
      " {np.int64(0): array([2.25 , 1.575]), np.int64(1): array([3.8 , 3.45])}\n",
      "Within-Class Scatter Matrix (SW):\n",
      " [[ 0.205   -0.5075 ]\n",
      " [-0.5075   1.26625]]\n",
      "Between-Class Scatter Matrix (SB):\n",
      " [[2.4025   2.90625 ]\n",
      " [2.90625  3.515625]]\n",
      "Product of SW^-1 and SB:\n",
      " [[2230.66049383 2698.37962963]\n",
      " [ 896.32098765 1084.25925926]]\n",
      "Largest Eigenvalue: 3314.92\n",
      "Corresponding Eigenvector (w):\n",
      " [0.92789365 0.37284497]\n",
      "Projection of class 1 mean (mu_w1) = 2.675 * w\n",
      "Projection of class 2 mean (mu_w2) = 4.812 * w\n",
      "Separation point (sep) = 3.744 * w\n",
      "Projection of new point onto w = 5.39 * w\n",
      "Classification of the new point: 1\n"
     ]
    },
    {
     "data": {
      "text/plain": [
       "np.int64(1)"
      ]
     },
     "execution_count": 41,
     "metadata": {},
     "output_type": "execute_result"
    }
   ],
   "execution_count": 41
  },
  {
   "metadata": {},
   "cell_type": "code",
   "outputs": [],
   "execution_count": null,
   "source": "",
   "id": "98a02565110714b6"
  }
 ],
 "metadata": {
  "kernelspec": {
   "display_name": "Python 3",
   "language": "python",
   "name": "python3"
  },
  "language_info": {
   "codemirror_mode": {
    "name": "ipython",
    "version": 2
   },
   "file_extension": ".py",
   "mimetype": "text/x-python",
   "name": "python",
   "nbconvert_exporter": "python",
   "pygments_lexer": "ipython2",
   "version": "2.7.6"
  }
 },
 "nbformat": 4,
 "nbformat_minor": 5
}
